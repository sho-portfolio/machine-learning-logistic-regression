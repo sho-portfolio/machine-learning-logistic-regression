{
  "nbformat": 4,
  "nbformat_minor": 0,
  "metadata": {
    "colab": {
      "name": "Untitled0.ipynb",
      "provenance": [],
      "machine_shape": "hm",
      "include_colab_link": true
    },
    "kernelspec": {
      "name": "python3",
      "display_name": "Python 3"
    },
    "accelerator": "GPU"
  },
  "cells": [
    {
      "cell_type": "markdown",
      "metadata": {
        "id": "view-in-github",
        "colab_type": "text"
      },
      "source": [
        "<a href=\"https://colab.research.google.com/github/sho-portfolio/MachineLearning-MultiClassClassifier/blob/master/GoogleColab/main-LocalRuntime.ipynb\" target=\"_parent\"><img src=\"https://colab.research.google.com/assets/colab-badge.svg\" alt=\"Open In Colab\"/></a>"
      ]
    },
    {
      "cell_type": "code",
      "metadata": {
        "id": "CekulVXg_n7X",
        "colab_type": "code",
        "colab": {}
      },
      "source": [
        "\"\"\"\n",
        "https://research.google.com/colaboratory/local-runtimes.html\n",
        "\n",
        "author:       sho \n",
        "date:         2019-11-01\n",
        "medium:       ()\n",
        "github:       (https://github.com/sho-portfolio/MachineLearning-MultiClassClassifier)\n",
        "donate:       ()\n",
        "description:  code to train, evaluate, productionize and use a model to predict in ~35 lines of code\n",
        "              four main sections:\n",
        "              [1] prepare the data\n",
        "              [2] train and evaluate the model\n",
        "              [3] productionize the model (save the model and associated files)\n",
        "              [4] use the saved model to make predictions\n",
        "\"\"\""
      ],
      "execution_count": 0,
      "outputs": []
    },
    {
      "cell_type": "code",
      "metadata": {
        "id": "nmF6SYVZYGQ0",
        "colab_type": "code",
        "outputId": "5c6270e1-01a7-4715-db80-befd54a007b0",
        "colab": {
          "base_uri": "https://localhost:8080/",
          "height": 632
        }
      },
      "source": [
        "!pip3 install jupyter_http_over_ws\n"
      ],
      "execution_count": 6,
      "outputs": [
        {
          "output_type": "stream",
          "text": [
            "Requirement already satisfied: jupyter_http_over_ws in /usr/local/lib/python3.6/dist-packages (0.0.6)\n",
            "Requirement already satisfied: notebook>=5.0 in /usr/local/lib/python3.6/dist-packages (from jupyter_http_over_ws) (5.2.2)\n",
            "Requirement already satisfied: tornado>=4.5 in /usr/local/lib/python3.6/dist-packages (from jupyter_http_over_ws) (4.5.3)\n",
            "Requirement already satisfied: enum34~=1.1 in /usr/local/lib/python3.6/dist-packages (from jupyter_http_over_ws) (1.1.6)\n",
            "Requirement already satisfied: six>=1.6.0 in /usr/local/lib/python3.6/dist-packages (from jupyter_http_over_ws) (1.12.0)\n",
            "Requirement already satisfied: nbformat in /usr/local/lib/python3.6/dist-packages (from notebook>=5.0->jupyter_http_over_ws) (4.4.0)\n",
            "Requirement already satisfied: traitlets>=4.2.1 in /usr/local/lib/python3.6/dist-packages (from notebook>=5.0->jupyter_http_over_ws) (4.3.3)\n",
            "Requirement already satisfied: jupyter-client in /usr/local/lib/python3.6/dist-packages (from notebook>=5.0->jupyter_http_over_ws) (5.3.4)\n",
            "Requirement already satisfied: jupyter-core in /usr/local/lib/python3.6/dist-packages (from notebook>=5.0->jupyter_http_over_ws) (4.6.1)\n",
            "Requirement already satisfied: jinja2 in /usr/local/lib/python3.6/dist-packages (from notebook>=5.0->jupyter_http_over_ws) (2.10.3)\n",
            "Requirement already satisfied: terminado>=0.3.3; sys_platform != \"win32\" in /usr/local/lib/python3.6/dist-packages (from notebook>=5.0->jupyter_http_over_ws) (0.8.2)\n",
            "Requirement already satisfied: ipython-genutils in /usr/local/lib/python3.6/dist-packages (from notebook>=5.0->jupyter_http_over_ws) (0.2.0)\n",
            "Requirement already satisfied: ipykernel in /usr/local/lib/python3.6/dist-packages (from notebook>=5.0->jupyter_http_over_ws) (4.6.1)\n",
            "Requirement already satisfied: nbconvert in /usr/local/lib/python3.6/dist-packages (from notebook>=5.0->jupyter_http_over_ws) (5.6.1)\n",
            "Requirement already satisfied: jsonschema!=2.5.0,>=2.4 in /usr/local/lib/python3.6/dist-packages (from nbformat->notebook>=5.0->jupyter_http_over_ws) (2.6.0)\n",
            "Requirement already satisfied: decorator in /usr/local/lib/python3.6/dist-packages (from traitlets>=4.2.1->notebook>=5.0->jupyter_http_over_ws) (4.4.1)\n",
            "Requirement already satisfied: pyzmq>=13 in /usr/local/lib/python3.6/dist-packages (from jupyter-client->notebook>=5.0->jupyter_http_over_ws) (17.0.0)\n",
            "Requirement already satisfied: python-dateutil>=2.1 in /usr/local/lib/python3.6/dist-packages (from jupyter-client->notebook>=5.0->jupyter_http_over_ws) (2.6.1)\n",
            "Requirement already satisfied: MarkupSafe>=0.23 in /usr/local/lib/python3.6/dist-packages (from jinja2->notebook>=5.0->jupyter_http_over_ws) (1.1.1)\n",
            "Requirement already satisfied: ptyprocess; os_name != \"nt\" in /usr/local/lib/python3.6/dist-packages (from terminado>=0.3.3; sys_platform != \"win32\"->notebook>=5.0->jupyter_http_over_ws) (0.6.0)\n",
            "Requirement already satisfied: ipython>=4.0.0 in /usr/local/lib/python3.6/dist-packages (from ipykernel->notebook>=5.0->jupyter_http_over_ws) (5.5.0)\n",
            "Requirement already satisfied: testpath in /usr/local/lib/python3.6/dist-packages (from nbconvert->notebook>=5.0->jupyter_http_over_ws) (0.4.2)\n",
            "Requirement already satisfied: pygments in /usr/local/lib/python3.6/dist-packages (from nbconvert->notebook>=5.0->jupyter_http_over_ws) (2.1.3)\n",
            "Requirement already satisfied: bleach in /usr/local/lib/python3.6/dist-packages (from nbconvert->notebook>=5.0->jupyter_http_over_ws) (3.1.0)\n",
            "Requirement already satisfied: entrypoints>=0.2.2 in /usr/local/lib/python3.6/dist-packages (from nbconvert->notebook>=5.0->jupyter_http_over_ws) (0.3)\n",
            "Requirement already satisfied: mistune<2,>=0.8.1 in /usr/local/lib/python3.6/dist-packages (from nbconvert->notebook>=5.0->jupyter_http_over_ws) (0.8.4)\n",
            "Requirement already satisfied: defusedxml in /usr/local/lib/python3.6/dist-packages (from nbconvert->notebook>=5.0->jupyter_http_over_ws) (0.6.0)\n",
            "Requirement already satisfied: pandocfilters>=1.4.1 in /usr/local/lib/python3.6/dist-packages (from nbconvert->notebook>=5.0->jupyter_http_over_ws) (1.4.2)\n",
            "Requirement already satisfied: prompt-toolkit<2.0.0,>=1.0.4 in /usr/local/lib/python3.6/dist-packages (from ipython>=4.0.0->ipykernel->notebook>=5.0->jupyter_http_over_ws) (1.0.18)\n",
            "Requirement already satisfied: setuptools>=18.5 in /usr/local/lib/python3.6/dist-packages (from ipython>=4.0.0->ipykernel->notebook>=5.0->jupyter_http_over_ws) (41.4.0)\n",
            "Requirement already satisfied: pexpect; sys_platform != \"win32\" in /usr/local/lib/python3.6/dist-packages (from ipython>=4.0.0->ipykernel->notebook>=5.0->jupyter_http_over_ws) (4.7.0)\n",
            "Requirement already satisfied: simplegeneric>0.8 in /usr/local/lib/python3.6/dist-packages (from ipython>=4.0.0->ipykernel->notebook>=5.0->jupyter_http_over_ws) (0.8.1)\n",
            "Requirement already satisfied: pickleshare in /usr/local/lib/python3.6/dist-packages (from ipython>=4.0.0->ipykernel->notebook>=5.0->jupyter_http_over_ws) (0.7.5)\n",
            "Requirement already satisfied: webencodings in /usr/local/lib/python3.6/dist-packages (from bleach->nbconvert->notebook>=5.0->jupyter_http_over_ws) (0.5.1)\n",
            "Requirement already satisfied: wcwidth in /usr/local/lib/python3.6/dist-packages (from prompt-toolkit<2.0.0,>=1.0.4->ipython>=4.0.0->ipykernel->notebook>=5.0->jupyter_http_over_ws) (0.1.7)\n"
          ],
          "name": "stdout"
        }
      ]
    },
    {
      "cell_type": "code",
      "metadata": {
        "id": "JVI_U8Qtc353",
        "colab_type": "code",
        "colab": {
          "base_uri": "https://localhost:8080/",
          "height": 357
        },
        "outputId": "d48134ff-4f82-42ef-88ed-07b98d40f889"
      },
      "source": [
        "!jupyter serverextension enable --py jupyter_http_over_ws"
      ],
      "execution_count": 8,
      "outputs": [
        {
          "output_type": "stream",
          "text": [
            "Traceback (most recent call last):\n",
            "  File \"/usr/local/bin/jupyter-serverextension\", line 8, in <module>\n",
            "    sys.exit(main())\n",
            "  File \"/usr/local/lib/python2.7/dist-packages/jupyter_core/application.py\", line 267, in launch_instance\n",
            "    return super(JupyterApp, cls).launch_instance(argv=argv, **kwargs)\n",
            "  File \"/usr/local/lib/python2.7/dist-packages/traitlets/config/application.py\", line 658, in launch_instance\n",
            "    app.start()\n",
            "  File \"/usr/local/lib/python2.7/dist-packages/notebook/serverextensions.py\", line 293, in start\n",
            "    super(ServerExtensionApp, self).start()\n",
            "  File \"/usr/local/lib/python2.7/dist-packages/jupyter_core/application.py\", line 256, in start\n",
            "    self.subapp.start()\n",
            "  File \"/usr/local/lib/python2.7/dist-packages/notebook/serverextensions.py\", line 210, in start\n",
            "    self.toggle_server_extension_python(arg)\n",
            "  File \"/usr/local/lib/python2.7/dist-packages/notebook/serverextensions.py\", line 199, in toggle_server_extension_python\n",
            "    m, server_exts = _get_server_extension_metadata(package)\n",
            "  File \"/usr/local/lib/python2.7/dist-packages/notebook/serverextensions.py\", line 327, in _get_server_extension_metadata\n",
            "    m = import_item(module)\n",
            "  File \"/usr/local/lib/python2.7/dist-packages/traitlets/utils/importstring.py\", line 42, in import_item\n",
            "    return __import__(parts[0])\n",
            "ImportError: No module named jupyter_http_over_ws\n"
          ],
          "name": "stdout"
        }
      ]
    },
    {
      "cell_type": "code",
      "metadata": {
        "id": "g26BY73KYasX",
        "colab_type": "code",
        "outputId": "ad1f94da-bd84-46cc-a9a2-31fdf7e27317",
        "colab": {
          "base_uri": "https://localhost:8080/",
          "height": 428
        }
      },
      "source": [
        "!jupyter notebook \\\n",
        "  --NotebookApp.allow_origin='https://colab.research.google.com' \\\n",
        "  --port=8888 \\\n",
        "  --NotebookApp.port_retries=0"
      ],
      "execution_count": 9,
      "outputs": [
        {
          "output_type": "stream",
          "text": [
            "/usr/local/lib/python2.7/dist-packages/IPython/utils/traitlets.py:5: UserWarning: IPython.utils.traitlets has moved to a top-level traitlets package.\n",
            "  warn(\"IPython.utils.traitlets has moved to a top-level traitlets package.\")\n",
            "Traceback (most recent call last):\n",
            "  File \"/usr/local/bin/jupyter-notebook\", line 8, in <module>\n",
            "    sys.exit(main())\n",
            "  File \"/usr/local/lib/python2.7/dist-packages/jupyter_core/application.py\", line 267, in launch_instance\n",
            "    return super(JupyterApp, cls).launch_instance(argv=argv, **kwargs)\n",
            "  File \"/usr/local/lib/python2.7/dist-packages/traitlets/config/application.py\", line 657, in launch_instance\n",
            "    app.initialize(argv)\n",
            "  File \"</usr/local/lib/python2.7/dist-packages/decorator.pyc:decorator-gen-7>\", line 2, in initialize\n",
            "  File \"/usr/local/lib/python2.7/dist-packages/traitlets/config/application.py\", line 87, in catch_config_error\n",
            "    return method(app, *args, **kwargs)\n",
            "  File \"/usr/local/lib/python2.7/dist-packages/notebook/notebookapp.py\", line 1368, in initialize\n",
            "    self.init_webapp()\n",
            "  File \"/usr/local/lib/python2.7/dist-packages/notebook/notebookapp.py\", line 1188, in init_webapp\n",
            "    self.http_server.listen(port, self.ip)\n",
            "  File \"/usr/local/lib/python2.7/dist-packages/tornado/tcpserver.py\", line 142, in listen\n",
            "    sockets = bind_sockets(port, address=address)\n",
            "  File \"/usr/local/lib/python2.7/dist-packages/tornado/netutil.py\", line 197, in bind_sockets\n",
            "    sock.bind(sockaddr)\n",
            "  File \"/usr/lib/python2.7/socket.py\", line 228, in meth\n",
            "    return getattr(self._sock,name)(*args)\n",
            "socket.error: [Errno 99] Cannot assign requested address\n"
          ],
          "name": "stdout"
        }
      ]
    },
    {
      "cell_type": "code",
      "metadata": {
        "id": "QWFAKbJ93FJf",
        "colab_type": "code",
        "colab": {
          "base_uri": "https://localhost:8080/",
          "height": 202
        },
        "outputId": "4b888199-930e-44ea-d78c-1128d3cc6042"
      },
      "source": [
        "!jupyter notebook \\\n",
        "  --NotebookApp.allow_origin='https://colab.research.google.com' \\\n",
        "  --ip=127.0.0.1 \\\n",
        "  --NotebookApp.port_retries=0"
      ],
      "execution_count": 0,
      "outputs": [
        {
          "output_type": "stream",
          "text": [
            "/usr/local/lib/python2.7/dist-packages/IPython/utils/traitlets.py:5: UserWarning: IPython.utils.traitlets has moved to a top-level traitlets package.\n",
            "  warn(\"IPython.utils.traitlets has moved to a top-level traitlets package.\")\n",
            "|INFO|google.colab serverextension initialized.\n",
            "|INFO|Serving notebooks from local directory: /content\n",
            "|INFO|0 active kernels\n",
            "|INFO|The Jupyter Notebook is running at:\n",
            "|INFO|http://127.0.0.1:8888/\n",
            "|INFO|Use Control-C to stop this server and shut down all kernels (twice to skip confirmation).\n"
          ],
          "name": "stdout"
        }
      ]
    },
    {
      "cell_type": "code",
      "metadata": {
        "id": "0tPI1Pee_yl-",
        "colab_type": "code",
        "outputId": "ae31acd6-62e0-4cf7-9d1c-e86638b54257",
        "colab": {
          "base_uri": "https://localhost:8080/",
          "height": 227
        }
      },
      "source": [
        "#download data source then use it (get single file)\n",
        "!wget \"https://raw.githubusercontent.com/sho-portfolio/MachineLearning-MultiClassClassifier/master/helper.py\"\n",
        "\n",
        "#Simple Data Example\n",
        "urlTrain = \"https://raw.githubusercontent.com/sho-portfolio/MachineLearning-MultiClassClassifier/master/dataTrain.txt\"\n",
        "urlTest = \"https://raw.githubusercontent.com/sho-portfolio/MachineLearning-MultiClassClassifier/master/dataTest.txt\"\n",
        "\n",
        "#Stack Overflow Data Example\n",
        "urlTrain = \"https://raw.githubusercontent.com/sho-portfolio/MachineLearning-MultiClassClassifier/master/data/StackOverflow_dataTrain.csv\"\n",
        "urlTest = \"https://raw.githubusercontent.com/sho-portfolio/MachineLearning-MultiClassClassifier/master/data/StackOverflow_dataTest.csv\"\n"
      ],
      "execution_count": 0,
      "outputs": [
        {
          "output_type": "stream",
          "text": [
            "--2019-11-04 22:34:27--  https://raw.githubusercontent.com/sho-portfolio/MachineLearning-MultiClassClassifier/master/helper.py\n",
            "Resolving raw.githubusercontent.com (raw.githubusercontent.com)... 151.101.0.133, 151.101.64.133, 151.101.128.133, ...\n",
            "Connecting to raw.githubusercontent.com (raw.githubusercontent.com)|151.101.0.133|:443... connected.\n",
            "HTTP request sent, awaiting response... 200 OK\n",
            "Length: 3357 (3.3K) [text/plain]\n",
            "Saving to: ‘helper.py.1’\n",
            "\n",
            "\rhelper.py.1           0%[                    ]       0  --.-KB/s               \rhelper.py.1         100%[===================>]   3.28K  --.-KB/s    in 0s      \n",
            "\n",
            "2019-11-04 22:34:27 (28.5 MB/s) - ‘helper.py.1’ saved [3357/3357]\n",
            "\n"
          ],
          "name": "stdout"
        }
      ]
    },
    {
      "cell_type": "code",
      "metadata": {
        "id": "V913OsqJ_2v5",
        "colab_type": "code",
        "outputId": "deb90391-9434-4696-bdb5-34bfd6c6c651",
        "colab": {
          "base_uri": "https://localhost:8080/",
          "height": 98
        }
      },
      "source": [
        "import tensorflow as tf\n",
        "import numpy as np\n",
        "import pandas as pd\n",
        "from keras.models import Sequential\n",
        "from keras.layers import Dense, Dropout, Activation\n",
        "from keras.layers import Embedding\n",
        "from keras.layers import Conv1D, GlobalMaxPooling1D\n",
        "from keras.preprocessing.text import Tokenizer\n",
        "from sklearn.preprocessing import LabelEncoder\n",
        "from keras.preprocessing import sequence\n",
        "from keras.models import load_model\n",
        "from keras import metrics\n",
        "from keras import utils\n",
        "from subprocess import check_output\n",
        "import pickle\n",
        "import helper as helper #only used if dataset is unbalanced or not optimized for ML"
      ],
      "execution_count": 0,
      "outputs": [
        {
          "output_type": "display_data",
          "data": {
            "text/html": [
              "<p style=\"color: red;\">\n",
              "The default version of TensorFlow in Colab will soon switch to TensorFlow 2.x.<br>\n",
              "We recommend you <a href=\"https://www.tensorflow.org/guide/migrate\" target=\"_blank\">upgrade</a> now \n",
              "or ensure your notebook will continue to use TensorFlow 1.x via the <code>%tensorflow_version 1.x</code> magic:\n",
              "<a href=\"https://colab.research.google.com/notebooks/tensorflow_version.ipynb\" target=\"_blank\">more info</a>.</p>\n"
            ],
            "text/plain": [
              "<IPython.core.display.HTML object>"
            ]
          },
          "metadata": {
            "tags": []
          }
        },
        {
          "output_type": "stream",
          "text": [
            "Using TensorFlow backend.\n"
          ],
          "name": "stderr"
        }
      ]
    },
    {
      "cell_type": "code",
      "metadata": {
        "id": "T1gXNHTP_45R",
        "colab_type": "code",
        "outputId": "835672a6-9b28-4f28-fcfa-28aa651adc56",
        "colab": {
          "base_uri": "https://localhost:8080/",
          "height": 259
        }
      },
      "source": [
        "## get and prepare data\n",
        "\n",
        "# load the dataset\n",
        "df = pd.read_csv(urlTrain)\n",
        "#X_train, y_train, X_test, y_test = helper.load_dataset('dataTrain.txt', 'text', 'label', 0.8)\n",
        "print(df)\n",
        "\n",
        "#texts = df['text']\n",
        "#labels = df['label']\n",
        "texts = df['post'] #use this for the #stack-overflow dataset\n",
        "labels = df['tags'] #use this for the #stack-overflow dataset"
      ],
      "execution_count": 0,
      "outputs": [
        {
          "output_type": "stream",
          "text": [
            "                                                    post     tags\n",
            "0      sql: why is there a need for subqueries in thi...      sql\n",
            "1      counting days left live  i am creating a small...  android\n",
            "2      android deadsystemexception  currently we are ...  android\n",
            "3      passing data from sqlitedatabase to a detailvi...      ios\n",
            "4      what could be the expression  double (f)(doubl...        c\n",
            "...                                                  ...      ...\n",
            "34994  how to display sub folder name using php  i wa...      php\n",
            "34995  mfmailcomposeviewcontroller displaying only ba...   iphone\n",
            "34996  how to make uiimageview as a circle [ios]  i h...      ios\n",
            "34997  does it matter which order i use for my css bo...      css\n",
            "34998  how to refresh a page after i perform a loopin...  asp.net\n",
            "\n",
            "[34999 rows x 2 columns]\n"
          ],
          "name": "stdout"
        }
      ]
    },
    {
      "cell_type": "code",
      "metadata": {
        "id": "1fMhVP8c_7XR",
        "colab_type": "code",
        "colab": {}
      },
      "source": [
        "# Split data into train and test (80% used for training, 20% for validation) (X = text Y = label)\n",
        "train_size = int(len(df) * 0.6)\n",
        "X_train = texts[:train_size]\n",
        "y_train = labels[:train_size]\n",
        "X_test = texts[train_size:]\n",
        "y_test = labels[train_size:]"
      ],
      "execution_count": 0,
      "outputs": []
    },
    {
      "cell_type": "code",
      "metadata": {
        "id": "qPAaleSj_9Hh",
        "colab_type": "code",
        "colab": {}
      },
      "source": [
        "# prepare (encode) model input data (using tokenizer)\n",
        "tok = Tokenizer()\n",
        "tok.fit_on_texts(X_train)\n",
        "X_train_enc = tok.texts_to_matrix(X_train, mode='count')\n",
        "X_test_enc = tok.texts_to_matrix(X_test, mode='count')"
      ],
      "execution_count": 0,
      "outputs": []
    },
    {
      "cell_type": "code",
      "metadata": {
        "id": "nVLtPva0__SI",
        "colab_type": "code",
        "outputId": "11d5ed86-c1d5-4ea1-d413-c50afd07bea3",
        "colab": {
          "base_uri": "https://localhost:8080/",
          "height": 235
        }
      },
      "source": [
        "# prepare (encode) target data (the labels that should be predicted)\n",
        "num_classes = y_train.nunique()\n",
        "le = LabelEncoder()\n",
        "le.fit_transform(y_train)\n",
        "y_train_enc = le.transform(y_train)\n",
        "y_test_enc = le.transform(y_test) #test labels transformed but not fit\n",
        "y_train_enc_categorical = utils.to_categorical(y_train_enc, num_classes)\n",
        "y_test_enc_categorical = utils.to_categorical(y_test_enc, num_classes)"
      ],
      "execution_count": 0,
      "outputs": [
        {
          "output_type": "error",
          "ename": "NameError",
          "evalue": "ignored",
          "traceback": [
            "\u001b[0;31m---------------------------------------------------------------------------\u001b[0m",
            "\u001b[0;31mNameError\u001b[0m                                 Traceback (most recent call last)",
            "\u001b[0;32m<ipython-input-1-32f643a79390>\u001b[0m in \u001b[0;36m<module>\u001b[0;34m()\u001b[0m\n\u001b[0;32m----> 1\u001b[0;31m \u001b[0mnum_classes\u001b[0m \u001b[0;34m=\u001b[0m \u001b[0my_train\u001b[0m\u001b[0;34m.\u001b[0m\u001b[0mnunique\u001b[0m\u001b[0;34m(\u001b[0m\u001b[0;34m)\u001b[0m\u001b[0;34m\u001b[0m\u001b[0;34m\u001b[0m\u001b[0m\n\u001b[0m\u001b[1;32m      2\u001b[0m \u001b[0mle\u001b[0m \u001b[0;34m=\u001b[0m \u001b[0mLabelEncoder\u001b[0m\u001b[0;34m(\u001b[0m\u001b[0;34m)\u001b[0m\u001b[0;34m\u001b[0m\u001b[0;34m\u001b[0m\u001b[0m\n\u001b[1;32m      3\u001b[0m \u001b[0mle\u001b[0m\u001b[0;34m.\u001b[0m\u001b[0mfit_transform\u001b[0m\u001b[0;34m(\u001b[0m\u001b[0my_train\u001b[0m\u001b[0;34m)\u001b[0m\u001b[0;34m\u001b[0m\u001b[0;34m\u001b[0m\u001b[0m\n\u001b[1;32m      4\u001b[0m \u001b[0my_train_enc\u001b[0m \u001b[0;34m=\u001b[0m \u001b[0mle\u001b[0m\u001b[0;34m.\u001b[0m\u001b[0mtransform\u001b[0m\u001b[0;34m(\u001b[0m\u001b[0my_train\u001b[0m\u001b[0;34m)\u001b[0m\u001b[0;34m\u001b[0m\u001b[0;34m\u001b[0m\u001b[0m\n\u001b[1;32m      5\u001b[0m \u001b[0my_test_enc\u001b[0m \u001b[0;34m=\u001b[0m \u001b[0mle\u001b[0m\u001b[0;34m.\u001b[0m\u001b[0mtransform\u001b[0m\u001b[0;34m(\u001b[0m\u001b[0my_test\u001b[0m\u001b[0;34m)\u001b[0m \u001b[0;31m#test labels transformed but not fit\u001b[0m\u001b[0;34m\u001b[0m\u001b[0;34m\u001b[0m\u001b[0m\n",
            "\u001b[0;31mNameError\u001b[0m: name 'y_train' is not defined"
          ]
        }
      ]
    },
    {
      "cell_type": "code",
      "metadata": {
        "id": "w7z1hZXKABbg",
        "colab_type": "code",
        "colab": {}
      },
      "source": [
        "#print(\"\\n X_train_enc: \\n\", X_train_enc)\n",
        "#print(\"\\n X_test_enc: \\n\", X_test_enc)\n",
        "#print(\"\\n y_train_enc: \\n\", y_train_enc)\n",
        "#print(\"\\n y_test_enc: \\n\", y_test_enc)\n",
        "#print(\"\\n y_train_enc_categorical: \\n\", y_train_enc_categorical)\n",
        "#print(\"\\n y_test_enc_categorical: \\n\", y_test_enc_categorical)"
      ],
      "execution_count": 0,
      "outputs": []
    },
    {
      "cell_type": "code",
      "metadata": {
        "id": "qGcsnOHqM905",
        "colab_type": "code",
        "colab": {}
      },
      "source": [
        "#specify the model parameters\n",
        "epochs=40\n",
        "number_of_neurons = 500\n",
        "batch_size = 128\n",
        "dropout_fraction = 0.5\n",
        "vocab_size = min(len(tok.word_index) + 1, 1000)"
      ],
      "execution_count": 0,
      "outputs": []
    },
    {
      "cell_type": "code",
      "metadata": {
        "id": "h0M8CUkIAEnm",
        "colab_type": "code",
        "outputId": "a0800dc0-f253-42d9-8eaf-605d6f873c41",
        "colab": {
          "base_uri": "https://localhost:8080/",
          "height": 555
        }
      },
      "source": [
        "#define the model\n",
        "model = Sequential()\n",
        "model.add(Dense(number_of_neurons, input_shape=(vocab_size,), activation='relu'))\n",
        "model.add(Dropout(dropout_fraction, seed=None))\n",
        "model.add(Dense(num_classes)) \n",
        "model.add(Activation('softmax'))\n",
        "model.compile(loss='categorical_crossentropy', optimizer='adam', metrics=[metrics.categorical_accuracy])\n",
        "print(model.summary())"
      ],
      "execution_count": 0,
      "outputs": [
        {
          "output_type": "stream",
          "text": [
            "WARNING:tensorflow:From /usr/local/lib/python3.6/dist-packages/keras/backend/tensorflow_backend.py:541: The name tf.placeholder is deprecated. Please use tf.compat.v1.placeholder instead.\n",
            "\n",
            "WARNING:tensorflow:From /usr/local/lib/python3.6/dist-packages/keras/backend/tensorflow_backend.py:4432: The name tf.random_uniform is deprecated. Please use tf.random.uniform instead.\n",
            "\n",
            "WARNING:tensorflow:From /usr/local/lib/python3.6/dist-packages/keras/backend/tensorflow_backend.py:148: The name tf.placeholder_with_default is deprecated. Please use tf.compat.v1.placeholder_with_default instead.\n",
            "\n",
            "WARNING:tensorflow:From /usr/local/lib/python3.6/dist-packages/keras/backend/tensorflow_backend.py:3733: calling dropout (from tensorflow.python.ops.nn_ops) with keep_prob is deprecated and will be removed in a future version.\n",
            "Instructions for updating:\n",
            "Please use `rate` instead of `keep_prob`. Rate should be set to `rate = 1 - keep_prob`.\n",
            "WARNING:tensorflow:From /usr/local/lib/python3.6/dist-packages/keras/optimizers.py:793: The name tf.train.Optimizer is deprecated. Please use tf.compat.v1.train.Optimizer instead.\n",
            "\n",
            "WARNING:tensorflow:From /usr/local/lib/python3.6/dist-packages/keras/backend/tensorflow_backend.py:3576: The name tf.log is deprecated. Please use tf.math.log instead.\n",
            "\n",
            "Model: \"sequential_3\"\n",
            "_________________________________________________________________\n",
            "Layer (type)                 Output Shape              Param #   \n",
            "=================================================================\n",
            "dense_1 (Dense)              (None, 500)               5500      \n",
            "_________________________________________________________________\n",
            "dropout_1 (Dropout)          (None, 500)               0         \n",
            "_________________________________________________________________\n",
            "dense_2 (Dense)              (None, 3)                 1503      \n",
            "_________________________________________________________________\n",
            "activation_1 (Activation)    (None, 3)                 0         \n",
            "=================================================================\n",
            "Total params: 7,003\n",
            "Trainable params: 7,003\n",
            "Non-trainable params: 0\n",
            "_________________________________________________________________\n",
            "None\n"
          ],
          "name": "stdout"
        }
      ]
    },
    {
      "cell_type": "code",
      "metadata": {
        "id": "chelCdymAFMY",
        "colab_type": "code",
        "outputId": "f302812e-a3a7-48ae-b91f-544d84a1c069",
        "colab": {
          "base_uri": "https://localhost:8080/",
          "height": 1000
        }
      },
      "source": [
        "# fit the model\n",
        "model.fit(X_train_enc, y_train_enc_categorical, batch_size=batch_size, epochs=epochs, verbose=1, validation_split=0.2)"
      ],
      "execution_count": 0,
      "outputs": [
        {
          "output_type": "stream",
          "text": [
            "WARNING:tensorflow:From /usr/local/lib/python3.6/dist-packages/tensorflow_core/python/ops/math_grad.py:1424: where (from tensorflow.python.ops.array_ops) is deprecated and will be removed in a future version.\n",
            "Instructions for updating:\n",
            "Use tf.where in 2.0, which has the same broadcast rule as np.where\n",
            "WARNING:tensorflow:From /usr/local/lib/python3.6/dist-packages/keras/backend/tensorflow_backend.py:1033: The name tf.assign_add is deprecated. Please use tf.compat.v1.assign_add instead.\n",
            "\n",
            "WARNING:tensorflow:From /usr/local/lib/python3.6/dist-packages/keras/backend/tensorflow_backend.py:1020: The name tf.assign is deprecated. Please use tf.compat.v1.assign instead.\n",
            "\n",
            "WARNING:tensorflow:From /usr/local/lib/python3.6/dist-packages/keras/backend/tensorflow_backend.py:3005: The name tf.Session is deprecated. Please use tf.compat.v1.Session instead.\n",
            "\n",
            "Train on 3 samples, validate on 1 samples\n",
            "Epoch 1/40\n",
            "WARNING:tensorflow:From /usr/local/lib/python3.6/dist-packages/keras/backend/tensorflow_backend.py:190: The name tf.get_default_session is deprecated. Please use tf.compat.v1.get_default_session instead.\n",
            "\n",
            "WARNING:tensorflow:From /usr/local/lib/python3.6/dist-packages/keras/backend/tensorflow_backend.py:197: The name tf.ConfigProto is deprecated. Please use tf.compat.v1.ConfigProto instead.\n",
            "\n",
            "WARNING:tensorflow:From /usr/local/lib/python3.6/dist-packages/keras/backend/tensorflow_backend.py:207: The name tf.global_variables is deprecated. Please use tf.compat.v1.global_variables instead.\n",
            "\n",
            "WARNING:tensorflow:From /usr/local/lib/python3.6/dist-packages/keras/backend/tensorflow_backend.py:216: The name tf.is_variable_initialized is deprecated. Please use tf.compat.v1.is_variable_initialized instead.\n",
            "\n",
            "WARNING:tensorflow:From /usr/local/lib/python3.6/dist-packages/keras/backend/tensorflow_backend.py:223: The name tf.variables_initializer is deprecated. Please use tf.compat.v1.variables_initializer instead.\n",
            "\n",
            "3/3 [==============================] - 1s 313ms/step - loss: 1.0497 - categorical_accuracy: 0.3333 - val_loss: 0.8872 - val_categorical_accuracy: 1.0000\n",
            "Epoch 2/40\n",
            "3/3 [==============================] - 0s 2ms/step - loss: 1.0661 - categorical_accuracy: 0.3333 - val_loss: 0.8626 - val_categorical_accuracy: 1.0000\n",
            "Epoch 3/40\n",
            "3/3 [==============================] - 0s 3ms/step - loss: 0.9253 - categorical_accuracy: 1.0000 - val_loss: 0.8362 - val_categorical_accuracy: 1.0000\n",
            "Epoch 4/40\n",
            "3/3 [==============================] - 0s 1ms/step - loss: 1.0407 - categorical_accuracy: 0.6667 - val_loss: 0.8090 - val_categorical_accuracy: 1.0000\n",
            "Epoch 5/40\n",
            "3/3 [==============================] - 0s 1ms/step - loss: 0.8774 - categorical_accuracy: 1.0000 - val_loss: 0.7813 - val_categorical_accuracy: 1.0000\n",
            "Epoch 6/40\n",
            "3/3 [==============================] - 0s 1ms/step - loss: 0.9530 - categorical_accuracy: 0.6667 - val_loss: 0.7539 - val_categorical_accuracy: 1.0000\n",
            "Epoch 7/40\n",
            "3/3 [==============================] - 0s 1ms/step - loss: 0.8766 - categorical_accuracy: 1.0000 - val_loss: 0.7273 - val_categorical_accuracy: 1.0000\n",
            "Epoch 8/40\n",
            "3/3 [==============================] - 0s 1ms/step - loss: 0.8232 - categorical_accuracy: 1.0000 - val_loss: 0.7014 - val_categorical_accuracy: 1.0000\n",
            "Epoch 9/40\n",
            "3/3 [==============================] - 0s 1ms/step - loss: 0.8019 - categorical_accuracy: 1.0000 - val_loss: 0.6754 - val_categorical_accuracy: 1.0000\n",
            "Epoch 10/40\n",
            "3/3 [==============================] - 0s 1ms/step - loss: 0.8329 - categorical_accuracy: 1.0000 - val_loss: 0.6504 - val_categorical_accuracy: 1.0000\n",
            "Epoch 11/40\n",
            "3/3 [==============================] - 0s 1ms/step - loss: 0.7868 - categorical_accuracy: 1.0000 - val_loss: 0.6266 - val_categorical_accuracy: 1.0000\n",
            "Epoch 12/40\n",
            "3/3 [==============================] - 0s 2ms/step - loss: 0.7157 - categorical_accuracy: 1.0000 - val_loss: 0.6038 - val_categorical_accuracy: 1.0000\n",
            "Epoch 13/40\n",
            "3/3 [==============================] - 0s 1ms/step - loss: 0.7900 - categorical_accuracy: 1.0000 - val_loss: 0.5820 - val_categorical_accuracy: 1.0000\n",
            "Epoch 14/40\n",
            "3/3 [==============================] - 0s 1ms/step - loss: 0.6015 - categorical_accuracy: 1.0000 - val_loss: 0.5607 - val_categorical_accuracy: 1.0000\n",
            "Epoch 15/40\n",
            "3/3 [==============================] - 0s 1ms/step - loss: 0.6149 - categorical_accuracy: 1.0000 - val_loss: 0.5397 - val_categorical_accuracy: 1.0000\n",
            "Epoch 16/40\n",
            "3/3 [==============================] - 0s 886us/step - loss: 0.5348 - categorical_accuracy: 1.0000 - val_loss: 0.5196 - val_categorical_accuracy: 1.0000\n",
            "Epoch 17/40\n",
            "3/3 [==============================] - 0s 1ms/step - loss: 0.6361 - categorical_accuracy: 1.0000 - val_loss: 0.5002 - val_categorical_accuracy: 1.0000\n",
            "Epoch 18/40\n",
            "3/3 [==============================] - 0s 958us/step - loss: 0.5242 - categorical_accuracy: 1.0000 - val_loss: 0.4813 - val_categorical_accuracy: 1.0000\n",
            "Epoch 19/40\n",
            "3/3 [==============================] - 0s 973us/step - loss: 0.4916 - categorical_accuracy: 1.0000 - val_loss: 0.4626 - val_categorical_accuracy: 1.0000\n",
            "Epoch 20/40\n",
            "3/3 [==============================] - 0s 975us/step - loss: 0.5550 - categorical_accuracy: 1.0000 - val_loss: 0.4447 - val_categorical_accuracy: 1.0000\n",
            "Epoch 21/40\n",
            "3/3 [==============================] - 0s 1ms/step - loss: 0.4696 - categorical_accuracy: 1.0000 - val_loss: 0.4272 - val_categorical_accuracy: 1.0000\n",
            "Epoch 22/40\n",
            "3/3 [==============================] - 0s 1ms/step - loss: 0.5342 - categorical_accuracy: 1.0000 - val_loss: 0.4103 - val_categorical_accuracy: 1.0000\n",
            "Epoch 23/40\n",
            "3/3 [==============================] - 0s 1ms/step - loss: 0.4987 - categorical_accuracy: 1.0000 - val_loss: 0.3941 - val_categorical_accuracy: 1.0000\n",
            "Epoch 24/40\n",
            "3/3 [==============================] - 0s 1ms/step - loss: 0.3695 - categorical_accuracy: 1.0000 - val_loss: 0.3786 - val_categorical_accuracy: 1.0000\n",
            "Epoch 25/40\n",
            "3/3 [==============================] - 0s 2ms/step - loss: 0.4603 - categorical_accuracy: 1.0000 - val_loss: 0.3635 - val_categorical_accuracy: 1.0000\n",
            "Epoch 26/40\n",
            "3/3 [==============================] - 0s 1ms/step - loss: 0.3883 - categorical_accuracy: 1.0000 - val_loss: 0.3491 - val_categorical_accuracy: 1.0000\n",
            "Epoch 27/40\n",
            "3/3 [==============================] - 0s 1ms/step - loss: 0.4436 - categorical_accuracy: 1.0000 - val_loss: 0.3350 - val_categorical_accuracy: 1.0000\n",
            "Epoch 28/40\n",
            "3/3 [==============================] - 0s 1ms/step - loss: 0.4140 - categorical_accuracy: 1.0000 - val_loss: 0.3211 - val_categorical_accuracy: 1.0000\n",
            "Epoch 29/40\n",
            "3/3 [==============================] - 0s 1ms/step - loss: 0.3203 - categorical_accuracy: 1.0000 - val_loss: 0.3077 - val_categorical_accuracy: 1.0000\n",
            "Epoch 30/40\n",
            "3/3 [==============================] - 0s 1ms/step - loss: 0.2945 - categorical_accuracy: 1.0000 - val_loss: 0.2948 - val_categorical_accuracy: 1.0000\n",
            "Epoch 31/40\n",
            "3/3 [==============================] - 0s 1ms/step - loss: 0.3068 - categorical_accuracy: 1.0000 - val_loss: 0.2823 - val_categorical_accuracy: 1.0000\n",
            "Epoch 32/40\n",
            "3/3 [==============================] - 0s 1ms/step - loss: 0.3099 - categorical_accuracy: 1.0000 - val_loss: 0.2703 - val_categorical_accuracy: 1.0000\n",
            "Epoch 33/40\n",
            "3/3 [==============================] - 0s 1ms/step - loss: 0.2679 - categorical_accuracy: 1.0000 - val_loss: 0.2586 - val_categorical_accuracy: 1.0000\n",
            "Epoch 34/40\n",
            "3/3 [==============================] - 0s 1ms/step - loss: 0.2727 - categorical_accuracy: 1.0000 - val_loss: 0.2472 - val_categorical_accuracy: 1.0000\n",
            "Epoch 35/40\n",
            "3/3 [==============================] - 0s 1ms/step - loss: 0.2261 - categorical_accuracy: 1.0000 - val_loss: 0.2365 - val_categorical_accuracy: 1.0000\n",
            "Epoch 36/40\n",
            "3/3 [==============================] - 0s 1ms/step - loss: 0.2275 - categorical_accuracy: 1.0000 - val_loss: 0.2261 - val_categorical_accuracy: 1.0000\n",
            "Epoch 37/40\n",
            "3/3 [==============================] - 0s 2ms/step - loss: 0.2854 - categorical_accuracy: 1.0000 - val_loss: 0.2161 - val_categorical_accuracy: 1.0000\n",
            "Epoch 38/40\n",
            "3/3 [==============================] - 0s 2ms/step - loss: 0.2761 - categorical_accuracy: 1.0000 - val_loss: 0.2066 - val_categorical_accuracy: 1.0000\n",
            "Epoch 39/40\n",
            "3/3 [==============================] - 0s 1ms/step - loss: 0.2285 - categorical_accuracy: 1.0000 - val_loss: 0.1976 - val_categorical_accuracy: 1.0000\n",
            "Epoch 40/40\n",
            "3/3 [==============================] - 0s 2ms/step - loss: 0.1899 - categorical_accuracy: 1.0000 - val_loss: 0.1892 - val_categorical_accuracy: 1.0000\n"
          ],
          "name": "stdout"
        },
        {
          "output_type": "execute_result",
          "data": {
            "text/plain": [
              "<keras.callbacks.History at 0x7fda0b635748>"
            ]
          },
          "metadata": {
            "tags": []
          },
          "execution_count": 17
        }
      ]
    },
    {
      "cell_type": "code",
      "metadata": {
        "id": "p-3B_fZBAHsX",
        "colab_type": "code",
        "outputId": "48aa2037-ee0a-4e61-d752-8413a33d2366",
        "colab": {
          "base_uri": "https://localhost:8080/",
          "height": 52
        }
      },
      "source": [
        "\n",
        "# evaluate the accuracy of the trained model\n",
        "score = model.evaluate(X_test_enc, y_test_enc_categorical, batch_size=batch_size, verbose=1)\n",
        "print(\"score: \", score)"
      ],
      "execution_count": 0,
      "outputs": [
        {
          "output_type": "stream",
          "text": [
            "\r2/2 [==============================] - 0s 973us/step\n",
            "score:  [0.20228077471256256, 1.0]\n"
          ],
          "name": "stdout"
        }
      ]
    },
    {
      "cell_type": "code",
      "metadata": {
        "id": "M-N-EGQ2AJun",
        "colab_type": "code",
        "colab": {}
      },
      "source": [
        "## Productionize the model\n",
        "\n",
        "#save the model (so that it can be used later)\n",
        "model.save('model.h5')\n",
        "\n",
        "#save/Pickle the tokenizer\n",
        "with open('tokenizer.pickle', 'wb') as handle: pickle.dump(tok, handle, protocol=pickle.HIGHEST_PROTOCOL)\n",
        "\n",
        "#save/Pickle the Label Encoder\n",
        "with open('labelencoder.pickle', 'wb') as handle: pickle.dump(le, handle, protocol=pickle.HIGHEST_PROTOCOL)"
      ],
      "execution_count": 0,
      "outputs": []
    },
    {
      "cell_type": "code",
      "metadata": {
        "id": "r9qOCUVzALhX",
        "colab_type": "code",
        "colab": {}
      },
      "source": [
        "\n",
        "## Use the saved model to make predictions"
      ],
      "execution_count": 0,
      "outputs": []
    },
    {
      "cell_type": "code",
      "metadata": {
        "id": "rWD6Hd29AOfh",
        "colab_type": "code",
        "colab": {}
      },
      "source": [
        "#load the model\n",
        "model = load_model('model.h5')\n",
        "\n",
        "#load the label encoder\n",
        "with open('labelencoder.pickle', 'rb') as handle: le = pickle.load(handle)\n",
        "\n",
        "# load the tokenizer\n",
        "with open('tokenizer.pickle', 'rb') as handle: tok = pickle.load(handle)"
      ],
      "execution_count": 0,
      "outputs": []
    },
    {
      "cell_type": "code",
      "metadata": {
        "id": "6Z-ApVFeAO82",
        "colab_type": "code",
        "colab": {}
      },
      "source": [
        "#create a dataframe from the test datafile\n",
        "df = pd.read_csv(urlTest)\n",
        "#df = pd.read_csv('data/dataTestSO.txt') #stack-overflow dataset\n",
        "\n",
        "#encode the text values we want to predict on using the loaded tokenizer pickle file\n",
        "X_test = df['text']\n",
        "X_test_enc = tok.texts_to_matrix(X_test, mode='count')"
      ],
      "execution_count": 0,
      "outputs": []
    },
    {
      "cell_type": "code",
      "metadata": {
        "id": "hYt-SHeQAQ2p",
        "colab_type": "code",
        "outputId": "0f7acb65-cb6a-49f8-a9f8-059de70d42d2",
        "colab": {
          "base_uri": "https://localhost:8080/",
          "height": 242
        }
      },
      "source": [
        "#predict values for the test data\n",
        "#create the output dataframe\n",
        "df_output = pd.DataFrame(columns=['text', 'label'])\n",
        "text_labels = le.classes_\n",
        "\n",
        "for i in range(0,X_test_enc.shape[0]):\n",
        "  prediction = model.predict(np.array([X_test_enc[i]]))\n",
        "  predicted_label = text_labels[np.argmax(prediction)]\n",
        "  #print(\"input: \", X_test[i])\n",
        "  #print(\"prediction: \", prediction)\n",
        "  #print(\"predicted_label: \", predicted_label)\n",
        "  df_output = df_output.append({'text': X_test.iloc[i], 'label':predicted_label}, ignore_index=True)\n",
        "\n",
        "print (df_output)"
      ],
      "execution_count": 0,
      "outputs": [
        {
          "output_type": "stream",
          "text": [
            "         text label\n",
            "0   containsA     A\n",
            "1   containsC     C\n",
            "2   containsB     B\n",
            "3   containsB     B\n",
            "4   containsA     A\n",
            "5           A     A\n",
            "6           B     B\n",
            "7     letterA     A\n",
            "8         cat     B\n",
            "9         dog     B\n",
            "10       insA     B\n",
            "11       insB     B\n"
          ],
          "name": "stdout"
        }
      ]
    },
    {
      "cell_type": "code",
      "metadata": {
        "id": "8HcwaqhAASLO",
        "colab_type": "code",
        "outputId": "46342ff3-0cd8-4bbf-b66e-90d2b8d8f2aa",
        "colab": {
          "base_uri": "https://localhost:8080/",
          "height": 521
        }
      },
      "source": [
        "#See error logs\n",
        "!cat /var/log/colab-jupyter.log\n",
        "\n",
        "import json\n",
        "\n",
        "with open(\"/var/log/colab-jupyter.log\", \"r\") as fo:\n",
        "  for line in fo:\n",
        "    print(json.loads(line)['msg'])"
      ],
      "execution_count": 0,
      "outputs": [
        {
          "output_type": "stream",
          "text": [
            "{\"name\":\"app\",\"hostname\":\"1c5690183a6c\",\"pid\":10,\"type\":\"jupyter\",\"level\":40,\"msg\":\"/usr/local/lib/python2.7/dist-packages/IPython/utils/traitlets.py:5: UserWarning: IPython.utils.traitlets has moved to a top-level traitlets package.\",\"time\":\"2019-11-04T21:50:53.829Z\",\"v\":0}\n",
            "{\"name\":\"app\",\"hostname\":\"1c5690183a6c\",\"pid\":10,\"type\":\"jupyter\",\"level\":40,\"msg\":\"  warn(\\\"IPython.utils.traitlets has moved to a top-level traitlets package.\\\")\",\"time\":\"2019-11-04T21:50:53.830Z\",\"v\":0}\n",
            "{\"name\":\"app\",\"hostname\":\"1c5690183a6c\",\"pid\":10,\"type\":\"jupyter\",\"level\":30,\"msg\":\"Writing notebook server cookie secret to /root/.local/share/jupyter/runtime/notebook_cookie_secret\",\"time\":\"2019-11-04T21:50:55.138Z\",\"v\":0}\n",
            "{\"name\":\"app\",\"hostname\":\"1c5690183a6c\",\"pid\":10,\"type\":\"jupyter\",\"level\":30,\"msg\":\"google.colab serverextension initialized.\",\"time\":\"2019-11-04T21:50:55.246Z\",\"v\":0}\n",
            "{\"name\":\"app\",\"hostname\":\"1c5690183a6c\",\"pid\":10,\"type\":\"jupyter\",\"level\":30,\"msg\":\"Serving notebooks from local directory: /\",\"time\":\"2019-11-04T21:50:55.246Z\",\"v\":0}\n",
            "{\"name\":\"app\",\"hostname\":\"1c5690183a6c\",\"pid\":10,\"type\":\"jupyter\",\"level\":30,\"msg\":\"0 active kernels\",\"time\":\"2019-11-04T21:50:55.246Z\",\"v\":0}\n",
            "{\"name\":\"app\",\"hostname\":\"1c5690183a6c\",\"pid\":10,\"type\":\"jupyter\",\"level\":30,\"msg\":\"The Jupyter Notebook is running at:\",\"time\":\"2019-11-04T21:50:55.246Z\",\"v\":0}\n",
            "{\"name\":\"app\",\"hostname\":\"1c5690183a6c\",\"pid\":10,\"type\":\"jupyter\",\"level\":30,\"msg\":\"http://172.28.0.2:9000/\",\"time\":\"2019-11-04T21:50:55.246Z\",\"v\":0}\n",
            "{\"name\":\"app\",\"hostname\":\"1c5690183a6c\",\"pid\":10,\"type\":\"jupyter\",\"level\":30,\"msg\":\"Use Control-C to stop this server and shut down all kernels (twice to skip confirmation).\",\"time\":\"2019-11-04T21:50:55.246Z\",\"v\":0}\n",
            "{\"name\":\"app\",\"hostname\":\"1c5690183a6c\",\"pid\":10,\"type\":\"jupyter\",\"level\":30,\"msg\":\"Kernel started: bb9c1621-f555-4559-8610-65ef89bc7d24\",\"time\":\"2019-11-04T21:57:16.318Z\",\"v\":0}\n",
            "{\"name\":\"app\",\"hostname\":\"1c5690183a6c\",\"pid\":10,\"type\":\"jupyter\",\"level\":30,\"msg\":\"Adapting to protocol v5.1 for kernel bb9c1621-f555-4559-8610-65ef89bc7d24\",\"time\":\"2019-11-04T21:57:17.938Z\",\"v\":0}\n",
            "{\"name\":\"app\",\"hostname\":\"1c5690183a6c\",\"pid\":10,\"type\":\"jupyter\",\"level\":40,\"msg\":\"tcmalloc: large alloc 27489869824 bytes == 0x1373a000 @  0x7f9b09625001 0x7f9b015e50f5 0x7f9b016484d9 0x7f9b0164a6af 0x7f9b016e09b8 0x50abc5 0x50c549 0x5081d5 0x50a020 0x50aa1d 0x50d320 0x5081d5 0x50a020 0x50aa1d 0x50d320 0x5081d5 0x516875 0x50a84f 0x50c549 0x5081d5 0x50a020 0x50aa1d 0x50c549 0x5081d5 0x50a020 0x50aa1d 0x50d320 0x5081d5 0x5095d2 0x5951c1 0x5a04ce\",\"time\":\"2019-11-04T21:57:40.008Z\",\"v\":0}\n",
            "{\"name\":\"app\",\"hostname\":\"1c5690183a6c\",\"pid\":10,\"type\":\"jupyter\",\"level\":30,\"msg\":\"KernelRestarter: restarting kernel (1/5), keep random ports\",\"time\":\"2019-11-04T21:57:55.497Z\",\"v\":0}\n",
            "{\"name\":\"app\",\"hostname\":\"1c5690183a6c\",\"pid\":10,\"type\":\"jupyter\",\"level\":40,\"msg\":\"WARNING:root:kernel bb9c1621-f555-4559-8610-65ef89bc7d24 restarted\",\"time\":\"2019-11-04T21:57:55.535Z\",\"v\":0}\n",
            "/usr/local/lib/python2.7/dist-packages/IPython/utils/traitlets.py:5: UserWarning: IPython.utils.traitlets has moved to a top-level traitlets package.\n",
            "  warn(\"IPython.utils.traitlets has moved to a top-level traitlets package.\")\n",
            "Writing notebook server cookie secret to /root/.local/share/jupyter/runtime/notebook_cookie_secret\n",
            "google.colab serverextension initialized.\n",
            "Serving notebooks from local directory: /\n",
            "0 active kernels\n",
            "The Jupyter Notebook is running at:\n",
            "http://172.28.0.2:9000/\n",
            "Use Control-C to stop this server and shut down all kernels (twice to skip confirmation).\n",
            "Kernel started: bb9c1621-f555-4559-8610-65ef89bc7d24\n",
            "Adapting to protocol v5.1 for kernel bb9c1621-f555-4559-8610-65ef89bc7d24\n",
            "tcmalloc: large alloc 27489869824 bytes == 0x1373a000 @  0x7f9b09625001 0x7f9b015e50f5 0x7f9b016484d9 0x7f9b0164a6af 0x7f9b016e09b8 0x50abc5 0x50c549 0x5081d5 0x50a020 0x50aa1d 0x50d320 0x5081d5 0x50a020 0x50aa1d 0x50d320 0x5081d5 0x516875 0x50a84f 0x50c549 0x5081d5 0x50a020 0x50aa1d 0x50c549 0x5081d5 0x50a020 0x50aa1d 0x50d320 0x5081d5 0x5095d2 0x5951c1 0x5a04ce\n",
            "KernelRestarter: restarting kernel (1/5), keep random ports\n",
            "WARNING:root:kernel bb9c1621-f555-4559-8610-65ef89bc7d24 restarted\n"
          ],
          "name": "stdout"
        }
      ]
    },
    {
      "cell_type": "code",
      "metadata": {
        "id": "_pSjuM0abcYt",
        "colab_type": "code",
        "colab": {}
      },
      "source": [
        "!pip install --upgrade jupyter_http_over_ws>=0.0.1a3 && \\\n",
        "  jupyter serverextension enable --py jupyter_http_over_ws"
      ],
      "execution_count": 0,
      "outputs": []
    },
    {
      "cell_type": "code",
      "metadata": {
        "id": "o1cS8VSoe-lS",
        "colab_type": "code",
        "outputId": "4a6d5dcf-6025-4f6f-aac3-507d5d8bc036",
        "colab": {
          "base_uri": "https://localhost:8080/",
          "height": 311
        }
      },
      "source": [
        "\n",
        "#https://drive.google.com/file/d/1ijawhI6AuPXxWhLu8flkrHZPTu3o_zF0/view?usp=sharing\n",
        "\n",
        "!nvidia-smi"
      ],
      "execution_count": 0,
      "outputs": [
        {
          "output_type": "stream",
          "text": [
            "Mon Nov  4 22:17:04 2019       \n",
            "+-----------------------------------------------------------------------------+\n",
            "| NVIDIA-SMI 430.50       Driver Version: 418.67       CUDA Version: 10.1     |\n",
            "|-------------------------------+----------------------+----------------------+\n",
            "| GPU  Name        Persistence-M| Bus-Id        Disp.A | Volatile Uncorr. ECC |\n",
            "| Fan  Temp  Perf  Pwr:Usage/Cap|         Memory-Usage | GPU-Util  Compute M. |\n",
            "|===============================+======================+======================|\n",
            "|   0  Tesla K80           Off  | 00000000:00:04.0 Off |                    0 |\n",
            "| N/A   73C    P8    32W / 149W |      0MiB / 11441MiB |      0%      Default |\n",
            "+-------------------------------+----------------------+----------------------+\n",
            "                                                                               \n",
            "+-----------------------------------------------------------------------------+\n",
            "| Processes:                                                       GPU Memory |\n",
            "|  GPU       PID   Type   Process name                             Usage      |\n",
            "|=============================================================================|\n",
            "|  No running processes found                                                 |\n",
            "+-----------------------------------------------------------------------------+\n"
          ],
          "name": "stdout"
        }
      ]
    },
    {
      "cell_type": "code",
      "metadata": {
        "id": "0XC5MoUff-RY",
        "colab_type": "code",
        "outputId": "fee442a1-7daa-4bac-b60a-31773216ac17",
        "colab": {
          "base_uri": "https://localhost:8080/",
          "height": 262
        }
      },
      "source": [
        "!gcloud auth login"
      ],
      "execution_count": 0,
      "outputs": [
        {
          "output_type": "stream",
          "text": [
            "Go to the following link in your browser:\n",
            "\n",
            "    https://accounts.google.com/o/oauth2/auth?code_challenge=zLY6MbvCJWekizLYCbdaZey1UJTFqjVOtk9V4v7Xj2M&prompt=select_account&code_challenge_method=S256&access_type=offline&redirect_uri=urn%3Aietf%3Awg%3Aoauth%3A2.0%3Aoob&response_type=code&client_id=32555940559.apps.googleusercontent.com&scope=https%3A%2F%2Fwww.googleapis.com%2Fauth%2Fuserinfo.email+https%3A%2F%2Fwww.googleapis.com%2Fauth%2Fcloud-platform+https%3A%2F%2Fwww.googleapis.com%2Fauth%2Fappengine.admin+https%3A%2F%2Fwww.googleapis.com%2Fauth%2Fcompute+https%3A%2F%2Fwww.googleapis.com%2Fauth%2Faccounts.reauth\n",
            "\n",
            "\n",
            "Enter verification code: 4/swHVaBVsNmKz6HWCQ-TX0PJTkha0baD5Jiw6ztO-VRUXDacygnn0Wds\n",
            "\u001b[1;33mWARNING:\u001b[0m `gcloud auth login` no longer writes application default credentials.\n",
            "If you need to use ADC, see:\n",
            "  gcloud auth application-default --help\n",
            "\n",
            "You are now logged in as [sho.munshi@gmail.com].\n",
            "Your current project is [None].  You can change this setting by running:\n",
            "  $ gcloud config set project PROJECT_ID\n"
          ],
          "name": "stdout"
        }
      ]
    },
    {
      "cell_type": "code",
      "metadata": {
        "id": "1cdKgTk1gfQr",
        "colab_type": "code",
        "outputId": "2048c08c-6c91-4110-a428-59039fef6f9f",
        "colab": {
          "base_uri": "https://localhost:8080/",
          "height": 69
        }
      },
      "source": [
        "!gcloud projects list\n"
      ],
      "execution_count": 0,
      "outputs": [
        {
          "output_type": "stream",
          "text": [
            "PROJECT_ID             NAME              PROJECT_NUMBER\n",
            "arctic-compass-223217  My First Project  611112547936\n",
            "pythonsho              PythonSho         282401377659\n"
          ],
          "name": "stdout"
        }
      ]
    },
    {
      "cell_type": "code",
      "metadata": {
        "id": "jiVAw4x0g4mu",
        "colab_type": "code",
        "outputId": "1b4775b7-274a-43b2-960d-f5a90deeecc6",
        "colab": {
          "base_uri": "https://localhost:8080/",
          "height": 35
        }
      },
      "source": [
        "!gcloud config set project pythonsho "
      ],
      "execution_count": 0,
      "outputs": [
        {
          "output_type": "stream",
          "text": [
            "Updated property [core/project].\n"
          ],
          "name": "stdout"
        }
      ]
    },
    {
      "cell_type": "code",
      "metadata": {
        "id": "Lc2N4PZmfYqn",
        "colab_type": "code",
        "outputId": "e6cf6bdb-91dd-4741-d85d-c50c84753248",
        "colab": {
          "base_uri": "https://localhost:8080/",
          "height": 138
        }
      },
      "source": [
        "!gcloud compute instances list"
      ],
      "execution_count": 0,
      "outputs": [
        {
          "output_type": "stream",
          "text": [
            "API [compute.googleapis.com] not enabled on project [282401377659]. \n",
            "Would you like to enable and retry (this will take a few minutes)? \n",
            "(y/N)?  y\n",
            "\n",
            "Enabling service [compute.googleapis.com] on project [282401377659]...\n",
            "Operation \"operations/acf.e1d9930c-e4f3-4967-bffe-a898de4c1ad2\" finished successfully.\n",
            "Listed 0 items.\n"
          ],
          "name": "stdout"
        }
      ]
    },
    {
      "cell_type": "code",
      "metadata": {
        "id": "tqc32fhegNu2",
        "colab_type": "code",
        "outputId": "5adbce92-4248-4b91-cbac-16d70feab865",
        "colab": {
          "base_uri": "https://localhost:8080/",
          "height": 35
        }
      },
      "source": [
        "!gcloud compute instances list"
      ],
      "execution_count": 0,
      "outputs": [
        {
          "output_type": "stream",
          "text": [
            "Listed 0 items.\n"
          ],
          "name": "stdout"
        }
      ]
    },
    {
      "cell_type": "code",
      "metadata": {
        "id": "6WUINU-Thmw0",
        "colab_type": "code",
        "outputId": "b70bf57b-6e58-4629-fb51-c35b954d7aa5",
        "colab": {
          "base_uri": "https://localhost:8080/",
          "height": 262
        }
      },
      "source": [
        "# memory footprint support libraries/code\n",
        "!ln -sf /opt/bin/nvidia-smi /usr/bin/nvidia-smi\n",
        "!pip install gputil\n",
        "!pip install psutil\n",
        "!pip install humanize\n",
        "\n",
        "import psutil\n",
        "import humanize\n",
        "import os\n",
        "import GPUtil as GPU\n",
        "GPUs = GPU.getGPUs()\n",
        "# XXX: only one GPU on Colab and isn't guaranteed\n",
        "gpu = GPUs[0]\n",
        "\n",
        "def printm():\n",
        "  process = psutil.Process(os.getpid())\n",
        "  print(\"Gen RAM Free: \" + humanize.naturalsize( psutil.virtual_memory().available ), \" I Proc size: \" + humanize.naturalsize( process.memory_info().rss))\n",
        "  print('GPU RAM Free: {0:.0f}MB | Used: {1:.0f}MB | Util {2:3.0f}% | Total {3:.0f}MB'.format(gpu.memoryFree, gpu.memoryUsed, gpu.memoryUtil*100, gpu.memoryTotal))\n",
        "\n",
        "printm()"
      ],
      "execution_count": 0,
      "outputs": [
        {
          "output_type": "stream",
          "text": [
            "Collecting gputil\n",
            "  Downloading https://files.pythonhosted.org/packages/ed/0e/5c61eedde9f6c87713e89d794f01e378cfd9565847d4576fa627d758c554/GPUtil-1.4.0.tar.gz\n",
            "Building wheels for collected packages: gputil\n",
            "  Building wheel for gputil (setup.py) ... \u001b[?25l\u001b[?25hdone\n",
            "  Created wheel for gputil: filename=GPUtil-1.4.0-cp36-none-any.whl size=7410 sha256=27834128d12dd023aab7a335c8f661045fdb25493622598acf47c2d168637c65\n",
            "  Stored in directory: /root/.cache/pip/wheels/3d/77/07/80562de4bb0786e5ea186911a2c831fdd0018bda69beab71fd\n",
            "Successfully built gputil\n",
            "Installing collected packages: gputil\n",
            "Successfully installed gputil-1.4.0\n",
            "Requirement already satisfied: psutil in /usr/local/lib/python3.6/dist-packages (5.4.8)\n",
            "Requirement already satisfied: humanize in /usr/local/lib/python3.6/dist-packages (0.5.1)\n",
            "Gen RAM Free: 26.4 GB  I Proc size: 159.4 MB\n",
            "GPU RAM Free: 11441MB | Used: 0MB | Util   0% | Total 11441MB\n"
          ],
          "name": "stdout"
        }
      ]
    },
    {
      "cell_type": "code",
      "metadata": {
        "id": "2Tb0GyUgjc5l",
        "colab_type": "code",
        "colab": {}
      },
      "source": [
        ""
      ],
      "execution_count": 0,
      "outputs": []
    }
  ]
}