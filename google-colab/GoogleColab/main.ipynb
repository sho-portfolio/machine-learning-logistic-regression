{
  "nbformat": 4,
  "nbformat_minor": 0,
  "metadata": {
    "colab": {
      "name": "Untitled0.ipynb",
      "provenance": [],
      "include_colab_link": true
    },
    "kernelspec": {
      "name": "python3",
      "display_name": "Python 3"
    }
  },
  "cells": [
    {
      "cell_type": "markdown",
      "metadata": {
        "id": "view-in-github",
        "colab_type": "text"
      },
      "source": [
        "<a href=\"https://colab.research.google.com/github/sho-portfolio/MachineLearning-MultiClassClassifier/blob/master/GoogleColab/main.ipynb\" target=\"_parent\"><img src=\"https://colab.research.google.com/assets/colab-badge.svg\" alt=\"Open In Colab\"/></a>"
      ]
    },
    {
      "cell_type": "code",
      "metadata": {
        "id": "CekulVXg_n7X",
        "colab_type": "code",
        "colab": {}
      },
      "source": [
        "\"\"\"\n",
        "author:       sho \n",
        "date:         2019-11-01\n",
        "medium:       ()\n",
        "github:       (https://github.com/sho-portfolio/MachineLearning-MultiClassClassifier)\n",
        "donate:       ()\n",
        "description:  code to train, evaluate, productionize and use a model to predict in ~35 lines of code\n",
        "              four main sections:\n",
        "              [1] prepare the data\n",
        "              [2] train and evaluate the model\n",
        "              [3] productionize the model (save the model and associated files)\n",
        "              [4] use the saved model to make predictions\n",
        "\"\"\""
      ],
      "execution_count": 0,
      "outputs": []
    },
    {
      "cell_type": "code",
      "metadata": {
        "id": "0tPI1Pee_yl-",
        "colab_type": "code",
        "colab": {
          "base_uri": "https://localhost:8080/",
          "height": 227
        },
        "outputId": "c2948345-22cb-40cb-84f3-104f1952a5ea"
      },
      "source": [
        "#download data source then use it (get single file)\n",
        "!wget \"https://raw.githubusercontent.com/sho-portfolio/MachineLearning-MultiClassClassifier/master/helper.py\"\n",
        "\n",
        "urlTrain = \"https://raw.githubusercontent.com/sho-portfolio/MachineLearning-MultiClassClassifier/master/dataTrain.txt\"\n",
        "urlTest = \"https://raw.githubusercontent.com/sho-portfolio/MachineLearning-MultiClassClassifier/master/dataTest.txt\"\n",
        "#urlTest = \"https://raw.githubusercontent.com/sho-portfolio/MachineLearning-MultiClassClassifier/master/data/simple/dataTest.txt\"\n"
      ],
      "execution_count": 6,
      "outputs": [
        {
          "output_type": "stream",
          "text": [
            "--2019-11-04 20:54:52--  https://raw.githubusercontent.com/sho-portfolio/MachineLearning-MultiClassClassifier/master/helper.py\n",
            "Resolving raw.githubusercontent.com (raw.githubusercontent.com)... 151.101.0.133, 151.101.64.133, 151.101.128.133, ...\n",
            "Connecting to raw.githubusercontent.com (raw.githubusercontent.com)|151.101.0.133|:443... connected.\n",
            "HTTP request sent, awaiting response... 200 OK\n",
            "Length: 3357 (3.3K) [text/plain]\n",
            "Saving to: ‘helper.py.2’\n",
            "\n",
            "\rhelper.py.2           0%[                    ]       0  --.-KB/s               \rhelper.py.2         100%[===================>]   3.28K  --.-KB/s    in 0s      \n",
            "\n",
            "2019-11-04 20:54:52 (67.0 MB/s) - ‘helper.py.2’ saved [3357/3357]\n",
            "\n"
          ],
          "name": "stdout"
        }
      ]
    },
    {
      "cell_type": "code",
      "metadata": {
        "id": "V913OsqJ_2v5",
        "colab_type": "code",
        "colab": {}
      },
      "source": [
        "import tensorflow as tf\n",
        "import numpy as np\n",
        "import pandas as pd\n",
        "from keras.models import Sequential\n",
        "from keras.layers import Dense, Dropout, Activation\n",
        "from keras.layers import Embedding\n",
        "from keras.layers import Conv1D, GlobalMaxPooling1D\n",
        "from keras.preprocessing.text import Tokenizer\n",
        "from sklearn.preprocessing import LabelEncoder\n",
        "from keras.preprocessing import sequence\n",
        "from keras.models import load_model\n",
        "from keras import metrics\n",
        "from keras import utils\n",
        "from subprocess import check_output\n",
        "import pickle\n",
        "import helper as helper #only used if dataset is unbalanced or not optimized for ML"
      ],
      "execution_count": 0,
      "outputs": []
    },
    {
      "cell_type": "code",
      "metadata": {
        "id": "T1gXNHTP_45R",
        "colab_type": "code",
        "colab": {
          "base_uri": "https://localhost:8080/",
          "height": 138
        },
        "outputId": "60a99a14-4e0b-4c3b-dae3-c788d6dfde6f"
      },
      "source": [
        "## get and prepare data\n",
        "\n",
        "# load the dataset\n",
        "df = pd.read_csv(urlTrain)\n",
        "#df = pd.read_csv('data/dataTrainSO.csv') #stack-overflow dataset\n",
        "#X_train, y_train, X_test, y_test = helper.load_dataset('dataTrain.txt', 'text', 'label', 0.8)\n",
        "print(df)\n",
        "\n",
        "texts = df['text']\n",
        "labels = df['label']\n",
        "#texts = df['text'] #use this for the #stack-overflow dataset\n",
        "#labels = df['label'] #use this for the #stack-overflow dataset"
      ],
      "execution_count": 8,
      "outputs": [
        {
          "output_type": "stream",
          "text": [
            "                  text label\n",
            "0  containsA letterA A     A\n",
            "1  containsB letterB B     B\n",
            "2  containsC letterC C     C\n",
            "3  containsA letterA A     A\n",
            "4  containsB letterB B     B\n",
            "5  containsC letterC C     C\n"
          ],
          "name": "stdout"
        }
      ]
    },
    {
      "cell_type": "code",
      "metadata": {
        "id": "1fMhVP8c_7XR",
        "colab_type": "code",
        "colab": {}
      },
      "source": [
        "# Split data into train and test (80% used for training, 20% for validation) (X = text Y = label)\n",
        "train_size = int(len(df) * 0.8)\n",
        "X_train = texts[:train_size]\n",
        "y_train = labels[:train_size]\n",
        "X_test = texts[train_size:]\n",
        "y_test = labels[train_size:]"
      ],
      "execution_count": 0,
      "outputs": []
    },
    {
      "cell_type": "code",
      "metadata": {
        "id": "qPAaleSj_9Hh",
        "colab_type": "code",
        "colab": {}
      },
      "source": [
        "# prepare (encode) model input data (using tokenizer)\n",
        "tok = Tokenizer()\n",
        "tok.fit_on_texts(X_train)\n",
        "X_train_enc = tok.texts_to_matrix(X_train, mode='count')\n",
        "X_test_enc = tok.texts_to_matrix(X_test, mode='count')"
      ],
      "execution_count": 0,
      "outputs": []
    },
    {
      "cell_type": "code",
      "metadata": {
        "id": "nVLtPva0__SI",
        "colab_type": "code",
        "colab": {}
      },
      "source": [
        "# prepare (encode) target data (the labels that should be predicted)\n",
        "num_classes = y_train.nunique()\n",
        "le = LabelEncoder()\n",
        "le.fit_transform(y_train)\n",
        "y_train_enc = le.transform(y_train)\n",
        "y_test_enc = le.transform(y_test) #test labels transformed but not fit\n",
        "y_train_enc_categorical = utils.to_categorical(y_train_enc, num_classes)\n",
        "y_test_enc_categorical = utils.to_categorical(y_test_enc, num_classes)"
      ],
      "execution_count": 0,
      "outputs": []
    },
    {
      "cell_type": "code",
      "metadata": {
        "id": "w7z1hZXKABbg",
        "colab_type": "code",
        "colab": {}
      },
      "source": [
        "#print(\"\\n X_train_enc: \\n\", X_train_enc)\n",
        "#print(\"\\n X_test_enc: \\n\", X_test_enc)\n",
        "#print(\"\\n y_train_enc: \\n\", y_train_enc)\n",
        "#print(\"\\n y_test_enc: \\n\", y_test_enc)\n",
        "#print(\"\\n y_train_enc_categorical: \\n\", y_train_enc_categorical)\n",
        "#print(\"\\n y_test_enc_categorical: \\n\", y_test_enc_categorical)"
      ],
      "execution_count": 0,
      "outputs": []
    },
    {
      "cell_type": "code",
      "metadata": {
        "id": "qGcsnOHqM905",
        "colab_type": "code",
        "colab": {}
      },
      "source": [
        "#specify the model parameters\n",
        "epochs=40\n",
        "number_of_neurons = 500\n",
        "batch_size = 128\n",
        "dropout_fraction = 0.5\n",
        "vocab_size = min(len(tok.word_index) + 1, 1000)"
      ],
      "execution_count": 0,
      "outputs": []
    },
    {
      "cell_type": "code",
      "metadata": {
        "id": "h0M8CUkIAEnm",
        "colab_type": "code",
        "colab": {
          "base_uri": "https://localhost:8080/",
          "height": 555
        },
        "outputId": "a0800dc0-f253-42d9-8eaf-605d6f873c41"
      },
      "source": [
        "#define the model\n",
        "model = Sequential()\n",
        "model.add(Dense(number_of_neurons, input_shape=(vocab_size,), activation='relu'))\n",
        "model.add(Dropout(dropout_fraction, seed=None))\n",
        "model.add(Dense(num_classes)) \n",
        "model.add(Activation('softmax'))\n",
        "model.compile(loss='categorical_crossentropy', optimizer='adam', metrics=[metrics.categorical_accuracy])\n",
        "print(model.summary())"
      ],
      "execution_count": 16,
      "outputs": [
        {
          "output_type": "stream",
          "text": [
            "WARNING:tensorflow:From /usr/local/lib/python3.6/dist-packages/keras/backend/tensorflow_backend.py:541: The name tf.placeholder is deprecated. Please use tf.compat.v1.placeholder instead.\n",
            "\n",
            "WARNING:tensorflow:From /usr/local/lib/python3.6/dist-packages/keras/backend/tensorflow_backend.py:4432: The name tf.random_uniform is deprecated. Please use tf.random.uniform instead.\n",
            "\n",
            "WARNING:tensorflow:From /usr/local/lib/python3.6/dist-packages/keras/backend/tensorflow_backend.py:148: The name tf.placeholder_with_default is deprecated. Please use tf.compat.v1.placeholder_with_default instead.\n",
            "\n",
            "WARNING:tensorflow:From /usr/local/lib/python3.6/dist-packages/keras/backend/tensorflow_backend.py:3733: calling dropout (from tensorflow.python.ops.nn_ops) with keep_prob is deprecated and will be removed in a future version.\n",
            "Instructions for updating:\n",
            "Please use `rate` instead of `keep_prob`. Rate should be set to `rate = 1 - keep_prob`.\n",
            "WARNING:tensorflow:From /usr/local/lib/python3.6/dist-packages/keras/optimizers.py:793: The name tf.train.Optimizer is deprecated. Please use tf.compat.v1.train.Optimizer instead.\n",
            "\n",
            "WARNING:tensorflow:From /usr/local/lib/python3.6/dist-packages/keras/backend/tensorflow_backend.py:3576: The name tf.log is deprecated. Please use tf.math.log instead.\n",
            "\n",
            "Model: \"sequential_3\"\n",
            "_________________________________________________________________\n",
            "Layer (type)                 Output Shape              Param #   \n",
            "=================================================================\n",
            "dense_1 (Dense)              (None, 500)               5500      \n",
            "_________________________________________________________________\n",
            "dropout_1 (Dropout)          (None, 500)               0         \n",
            "_________________________________________________________________\n",
            "dense_2 (Dense)              (None, 3)                 1503      \n",
            "_________________________________________________________________\n",
            "activation_1 (Activation)    (None, 3)                 0         \n",
            "=================================================================\n",
            "Total params: 7,003\n",
            "Trainable params: 7,003\n",
            "Non-trainable params: 0\n",
            "_________________________________________________________________\n",
            "None\n"
          ],
          "name": "stdout"
        }
      ]
    },
    {
      "cell_type": "code",
      "metadata": {
        "id": "chelCdymAFMY",
        "colab_type": "code",
        "colab": {
          "base_uri": "https://localhost:8080/",
          "height": 1000
        },
        "outputId": "f302812e-a3a7-48ae-b91f-544d84a1c069"
      },
      "source": [
        "# fit the model\n",
        "model.fit(X_train_enc, y_train_enc_categorical, batch_size=batch_size, epochs=epochs, verbose=1, validation_split=0.2)"
      ],
      "execution_count": 17,
      "outputs": [
        {
          "output_type": "stream",
          "text": [
            "WARNING:tensorflow:From /usr/local/lib/python3.6/dist-packages/tensorflow_core/python/ops/math_grad.py:1424: where (from tensorflow.python.ops.array_ops) is deprecated and will be removed in a future version.\n",
            "Instructions for updating:\n",
            "Use tf.where in 2.0, which has the same broadcast rule as np.where\n",
            "WARNING:tensorflow:From /usr/local/lib/python3.6/dist-packages/keras/backend/tensorflow_backend.py:1033: The name tf.assign_add is deprecated. Please use tf.compat.v1.assign_add instead.\n",
            "\n",
            "WARNING:tensorflow:From /usr/local/lib/python3.6/dist-packages/keras/backend/tensorflow_backend.py:1020: The name tf.assign is deprecated. Please use tf.compat.v1.assign instead.\n",
            "\n",
            "WARNING:tensorflow:From /usr/local/lib/python3.6/dist-packages/keras/backend/tensorflow_backend.py:3005: The name tf.Session is deprecated. Please use tf.compat.v1.Session instead.\n",
            "\n",
            "Train on 3 samples, validate on 1 samples\n",
            "Epoch 1/40\n",
            "WARNING:tensorflow:From /usr/local/lib/python3.6/dist-packages/keras/backend/tensorflow_backend.py:190: The name tf.get_default_session is deprecated. Please use tf.compat.v1.get_default_session instead.\n",
            "\n",
            "WARNING:tensorflow:From /usr/local/lib/python3.6/dist-packages/keras/backend/tensorflow_backend.py:197: The name tf.ConfigProto is deprecated. Please use tf.compat.v1.ConfigProto instead.\n",
            "\n",
            "WARNING:tensorflow:From /usr/local/lib/python3.6/dist-packages/keras/backend/tensorflow_backend.py:207: The name tf.global_variables is deprecated. Please use tf.compat.v1.global_variables instead.\n",
            "\n",
            "WARNING:tensorflow:From /usr/local/lib/python3.6/dist-packages/keras/backend/tensorflow_backend.py:216: The name tf.is_variable_initialized is deprecated. Please use tf.compat.v1.is_variable_initialized instead.\n",
            "\n",
            "WARNING:tensorflow:From /usr/local/lib/python3.6/dist-packages/keras/backend/tensorflow_backend.py:223: The name tf.variables_initializer is deprecated. Please use tf.compat.v1.variables_initializer instead.\n",
            "\n",
            "3/3 [==============================] - 1s 313ms/step - loss: 1.0497 - categorical_accuracy: 0.3333 - val_loss: 0.8872 - val_categorical_accuracy: 1.0000\n",
            "Epoch 2/40\n",
            "3/3 [==============================] - 0s 2ms/step - loss: 1.0661 - categorical_accuracy: 0.3333 - val_loss: 0.8626 - val_categorical_accuracy: 1.0000\n",
            "Epoch 3/40\n",
            "3/3 [==============================] - 0s 3ms/step - loss: 0.9253 - categorical_accuracy: 1.0000 - val_loss: 0.8362 - val_categorical_accuracy: 1.0000\n",
            "Epoch 4/40\n",
            "3/3 [==============================] - 0s 1ms/step - loss: 1.0407 - categorical_accuracy: 0.6667 - val_loss: 0.8090 - val_categorical_accuracy: 1.0000\n",
            "Epoch 5/40\n",
            "3/3 [==============================] - 0s 1ms/step - loss: 0.8774 - categorical_accuracy: 1.0000 - val_loss: 0.7813 - val_categorical_accuracy: 1.0000\n",
            "Epoch 6/40\n",
            "3/3 [==============================] - 0s 1ms/step - loss: 0.9530 - categorical_accuracy: 0.6667 - val_loss: 0.7539 - val_categorical_accuracy: 1.0000\n",
            "Epoch 7/40\n",
            "3/3 [==============================] - 0s 1ms/step - loss: 0.8766 - categorical_accuracy: 1.0000 - val_loss: 0.7273 - val_categorical_accuracy: 1.0000\n",
            "Epoch 8/40\n",
            "3/3 [==============================] - 0s 1ms/step - loss: 0.8232 - categorical_accuracy: 1.0000 - val_loss: 0.7014 - val_categorical_accuracy: 1.0000\n",
            "Epoch 9/40\n",
            "3/3 [==============================] - 0s 1ms/step - loss: 0.8019 - categorical_accuracy: 1.0000 - val_loss: 0.6754 - val_categorical_accuracy: 1.0000\n",
            "Epoch 10/40\n",
            "3/3 [==============================] - 0s 1ms/step - loss: 0.8329 - categorical_accuracy: 1.0000 - val_loss: 0.6504 - val_categorical_accuracy: 1.0000\n",
            "Epoch 11/40\n",
            "3/3 [==============================] - 0s 1ms/step - loss: 0.7868 - categorical_accuracy: 1.0000 - val_loss: 0.6266 - val_categorical_accuracy: 1.0000\n",
            "Epoch 12/40\n",
            "3/3 [==============================] - 0s 2ms/step - loss: 0.7157 - categorical_accuracy: 1.0000 - val_loss: 0.6038 - val_categorical_accuracy: 1.0000\n",
            "Epoch 13/40\n",
            "3/3 [==============================] - 0s 1ms/step - loss: 0.7900 - categorical_accuracy: 1.0000 - val_loss: 0.5820 - val_categorical_accuracy: 1.0000\n",
            "Epoch 14/40\n",
            "3/3 [==============================] - 0s 1ms/step - loss: 0.6015 - categorical_accuracy: 1.0000 - val_loss: 0.5607 - val_categorical_accuracy: 1.0000\n",
            "Epoch 15/40\n",
            "3/3 [==============================] - 0s 1ms/step - loss: 0.6149 - categorical_accuracy: 1.0000 - val_loss: 0.5397 - val_categorical_accuracy: 1.0000\n",
            "Epoch 16/40\n",
            "3/3 [==============================] - 0s 886us/step - loss: 0.5348 - categorical_accuracy: 1.0000 - val_loss: 0.5196 - val_categorical_accuracy: 1.0000\n",
            "Epoch 17/40\n",
            "3/3 [==============================] - 0s 1ms/step - loss: 0.6361 - categorical_accuracy: 1.0000 - val_loss: 0.5002 - val_categorical_accuracy: 1.0000\n",
            "Epoch 18/40\n",
            "3/3 [==============================] - 0s 958us/step - loss: 0.5242 - categorical_accuracy: 1.0000 - val_loss: 0.4813 - val_categorical_accuracy: 1.0000\n",
            "Epoch 19/40\n",
            "3/3 [==============================] - 0s 973us/step - loss: 0.4916 - categorical_accuracy: 1.0000 - val_loss: 0.4626 - val_categorical_accuracy: 1.0000\n",
            "Epoch 20/40\n",
            "3/3 [==============================] - 0s 975us/step - loss: 0.5550 - categorical_accuracy: 1.0000 - val_loss: 0.4447 - val_categorical_accuracy: 1.0000\n",
            "Epoch 21/40\n",
            "3/3 [==============================] - 0s 1ms/step - loss: 0.4696 - categorical_accuracy: 1.0000 - val_loss: 0.4272 - val_categorical_accuracy: 1.0000\n",
            "Epoch 22/40\n",
            "3/3 [==============================] - 0s 1ms/step - loss: 0.5342 - categorical_accuracy: 1.0000 - val_loss: 0.4103 - val_categorical_accuracy: 1.0000\n",
            "Epoch 23/40\n",
            "3/3 [==============================] - 0s 1ms/step - loss: 0.4987 - categorical_accuracy: 1.0000 - val_loss: 0.3941 - val_categorical_accuracy: 1.0000\n",
            "Epoch 24/40\n",
            "3/3 [==============================] - 0s 1ms/step - loss: 0.3695 - categorical_accuracy: 1.0000 - val_loss: 0.3786 - val_categorical_accuracy: 1.0000\n",
            "Epoch 25/40\n",
            "3/3 [==============================] - 0s 2ms/step - loss: 0.4603 - categorical_accuracy: 1.0000 - val_loss: 0.3635 - val_categorical_accuracy: 1.0000\n",
            "Epoch 26/40\n",
            "3/3 [==============================] - 0s 1ms/step - loss: 0.3883 - categorical_accuracy: 1.0000 - val_loss: 0.3491 - val_categorical_accuracy: 1.0000\n",
            "Epoch 27/40\n",
            "3/3 [==============================] - 0s 1ms/step - loss: 0.4436 - categorical_accuracy: 1.0000 - val_loss: 0.3350 - val_categorical_accuracy: 1.0000\n",
            "Epoch 28/40\n",
            "3/3 [==============================] - 0s 1ms/step - loss: 0.4140 - categorical_accuracy: 1.0000 - val_loss: 0.3211 - val_categorical_accuracy: 1.0000\n",
            "Epoch 29/40\n",
            "3/3 [==============================] - 0s 1ms/step - loss: 0.3203 - categorical_accuracy: 1.0000 - val_loss: 0.3077 - val_categorical_accuracy: 1.0000\n",
            "Epoch 30/40\n",
            "3/3 [==============================] - 0s 1ms/step - loss: 0.2945 - categorical_accuracy: 1.0000 - val_loss: 0.2948 - val_categorical_accuracy: 1.0000\n",
            "Epoch 31/40\n",
            "3/3 [==============================] - 0s 1ms/step - loss: 0.3068 - categorical_accuracy: 1.0000 - val_loss: 0.2823 - val_categorical_accuracy: 1.0000\n",
            "Epoch 32/40\n",
            "3/3 [==============================] - 0s 1ms/step - loss: 0.3099 - categorical_accuracy: 1.0000 - val_loss: 0.2703 - val_categorical_accuracy: 1.0000\n",
            "Epoch 33/40\n",
            "3/3 [==============================] - 0s 1ms/step - loss: 0.2679 - categorical_accuracy: 1.0000 - val_loss: 0.2586 - val_categorical_accuracy: 1.0000\n",
            "Epoch 34/40\n",
            "3/3 [==============================] - 0s 1ms/step - loss: 0.2727 - categorical_accuracy: 1.0000 - val_loss: 0.2472 - val_categorical_accuracy: 1.0000\n",
            "Epoch 35/40\n",
            "3/3 [==============================] - 0s 1ms/step - loss: 0.2261 - categorical_accuracy: 1.0000 - val_loss: 0.2365 - val_categorical_accuracy: 1.0000\n",
            "Epoch 36/40\n",
            "3/3 [==============================] - 0s 1ms/step - loss: 0.2275 - categorical_accuracy: 1.0000 - val_loss: 0.2261 - val_categorical_accuracy: 1.0000\n",
            "Epoch 37/40\n",
            "3/3 [==============================] - 0s 2ms/step - loss: 0.2854 - categorical_accuracy: 1.0000 - val_loss: 0.2161 - val_categorical_accuracy: 1.0000\n",
            "Epoch 38/40\n",
            "3/3 [==============================] - 0s 2ms/step - loss: 0.2761 - categorical_accuracy: 1.0000 - val_loss: 0.2066 - val_categorical_accuracy: 1.0000\n",
            "Epoch 39/40\n",
            "3/3 [==============================] - 0s 1ms/step - loss: 0.2285 - categorical_accuracy: 1.0000 - val_loss: 0.1976 - val_categorical_accuracy: 1.0000\n",
            "Epoch 40/40\n",
            "3/3 [==============================] - 0s 2ms/step - loss: 0.1899 - categorical_accuracy: 1.0000 - val_loss: 0.1892 - val_categorical_accuracy: 1.0000\n"
          ],
          "name": "stdout"
        },
        {
          "output_type": "execute_result",
          "data": {
            "text/plain": [
              "<keras.callbacks.History at 0x7fda0b635748>"
            ]
          },
          "metadata": {
            "tags": []
          },
          "execution_count": 17
        }
      ]
    },
    {
      "cell_type": "code",
      "metadata": {
        "id": "p-3B_fZBAHsX",
        "colab_type": "code",
        "colab": {
          "base_uri": "https://localhost:8080/",
          "height": 52
        },
        "outputId": "48aa2037-ee0a-4e61-d752-8413a33d2366"
      },
      "source": [
        "\n",
        "# evaluate the accuracy of the trained model\n",
        "score = model.evaluate(X_test_enc, y_test_enc_categorical, batch_size=batch_size, verbose=1)\n",
        "print(\"score: \", score)"
      ],
      "execution_count": 18,
      "outputs": [
        {
          "output_type": "stream",
          "text": [
            "\r2/2 [==============================] - 0s 973us/step\n",
            "score:  [0.20228077471256256, 1.0]\n"
          ],
          "name": "stdout"
        }
      ]
    },
    {
      "cell_type": "code",
      "metadata": {
        "id": "M-N-EGQ2AJun",
        "colab_type": "code",
        "colab": {}
      },
      "source": [
        "## Productionize the model\n",
        "\n",
        "#save the model (so that it can be used later)\n",
        "model.save('model.h5')\n",
        "\n",
        "#save/Pickle the tokenizer\n",
        "with open('tokenizer.pickle', 'wb') as handle: pickle.dump(tok, handle, protocol=pickle.HIGHEST_PROTOCOL)\n",
        "\n",
        "#save/Pickle the Label Encoder\n",
        "with open('labelencoder.pickle', 'wb') as handle: pickle.dump(le, handle, protocol=pickle.HIGHEST_PROTOCOL)"
      ],
      "execution_count": 0,
      "outputs": []
    },
    {
      "cell_type": "code",
      "metadata": {
        "id": "r9qOCUVzALhX",
        "colab_type": "code",
        "colab": {}
      },
      "source": [
        "\n",
        "## Use the saved model to make predictions"
      ],
      "execution_count": 0,
      "outputs": []
    },
    {
      "cell_type": "code",
      "metadata": {
        "id": "rWD6Hd29AOfh",
        "colab_type": "code",
        "colab": {}
      },
      "source": [
        "#load the model\n",
        "model = load_model('model.h5')\n",
        "\n",
        "#load the label encoder\n",
        "with open('labelencoder.pickle', 'rb') as handle: le = pickle.load(handle)\n",
        "\n",
        "# load the tokenizer\n",
        "with open('tokenizer.pickle', 'rb') as handle: tok = pickle.load(handle)"
      ],
      "execution_count": 0,
      "outputs": []
    },
    {
      "cell_type": "code",
      "metadata": {
        "id": "6Z-ApVFeAO82",
        "colab_type": "code",
        "colab": {}
      },
      "source": [
        "#create a dataframe from the test datafile\n",
        "df = pd.read_csv(urlTest)\n",
        "#df = pd.read_csv('data/dataTestSO.txt') #stack-overflow dataset\n",
        "\n",
        "#encode the text values we want to predict on using the loaded tokenizer pickle file\n",
        "X_test = df['text']\n",
        "X_test_enc = tok.texts_to_matrix(X_test, mode='count')"
      ],
      "execution_count": 0,
      "outputs": []
    },
    {
      "cell_type": "code",
      "metadata": {
        "id": "hYt-SHeQAQ2p",
        "colab_type": "code",
        "colab": {
          "base_uri": "https://localhost:8080/",
          "height": 242
        },
        "outputId": "0f7acb65-cb6a-49f8-a9f8-059de70d42d2"
      },
      "source": [
        "#predict values for the test data\n",
        "#create the output dataframe\n",
        "df_output = pd.DataFrame(columns=['text', 'label'])\n",
        "text_labels = le.classes_\n",
        "\n",
        "for i in range(0,X_test_enc.shape[0]):\n",
        "  prediction = model.predict(np.array([X_test_enc[i]]))\n",
        "  predicted_label = text_labels[np.argmax(prediction)]\n",
        "  #print(\"input: \", X_test[i])\n",
        "  #print(\"prediction: \", prediction)\n",
        "  #print(\"predicted_label: \", predicted_label)\n",
        "  df_output = df_output.append({'text': X_test.iloc[i], 'label':predicted_label}, ignore_index=True)\n",
        "\n",
        "print (df_output)"
      ],
      "execution_count": 23,
      "outputs": [
        {
          "output_type": "stream",
          "text": [
            "         text label\n",
            "0   containsA     A\n",
            "1   containsC     C\n",
            "2   containsB     B\n",
            "3   containsB     B\n",
            "4   containsA     A\n",
            "5           A     A\n",
            "6           B     B\n",
            "7     letterA     A\n",
            "8         cat     B\n",
            "9         dog     B\n",
            "10       insA     B\n",
            "11       insB     B\n"
          ],
          "name": "stdout"
        }
      ]
    },
    {
      "cell_type": "code",
      "metadata": {
        "id": "8HcwaqhAASLO",
        "colab_type": "code",
        "colab": {}
      },
      "source": [
        ""
      ],
      "execution_count": 0,
      "outputs": []
    }
  ]
}